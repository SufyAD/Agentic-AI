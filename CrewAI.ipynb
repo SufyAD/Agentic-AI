{
  "nbformat": 4,
  "nbformat_minor": 0,
  "metadata": {
    "colab": {
      "provenance": [],
      "authorship_tag": "ABX9TyPeyWzWr2lpTR0udrY4UN6b",
      "include_colab_link": true
    },
    "kernelspec": {
      "name": "python3",
      "display_name": "Python 3"
    },
    "language_info": {
      "name": "python"
    }
  },
  "cells": [
    {
      "cell_type": "markdown",
      "metadata": {
        "id": "view-in-github",
        "colab_type": "text"
      },
      "source": [
        "<a href=\"https://colab.research.google.com/github/SufyAD/Agentic-AI/blob/main/CrewAI.ipynb\" target=\"_parent\"><img src=\"https://colab.research.google.com/assets/colab-badge.svg\" alt=\"Open In Colab\"/></a>"
      ]
    },
    {
      "cell_type": "code",
      "execution_count": 10,
      "metadata": {
        "id": "q7Ul023HT-Ws"
      },
      "outputs": [],
      "source": [
        "import os\n",
        "from google.colab import userdata\n",
        "\n",
        "GEMINI_API_KEY = userdata.get(\"GEMINI_API_KEY\")"
      ]
    },
    {
      "cell_type": "code",
      "source": [
        "!pip install -qU crewai crewai-tools"
      ],
      "metadata": {
        "id": "LRIUVLmXUtv1"
      },
      "execution_count": null,
      "outputs": []
    },
    {
      "cell_type": "code",
      "source": [
        "import nest_asyncio\n",
        "nest_asyncio.apply()"
      ],
      "metadata": {
        "id": "r84PiDyNVgEA"
      },
      "execution_count": 3,
      "outputs": []
    },
    {
      "cell_type": "code",
      "source": [
        "from crewai import Agent, Task, Crew, Process\n",
        "from crewai.project import CrewBase, agent, crew\n",
        "from crewai_tools import SerperDevTool"
      ],
      "metadata": {
        "colab": {
          "base_uri": "https://localhost:8080/"
        },
        "id": "DzqS6O5aYk9h",
        "outputId": "b01d3697-119a-420a-c406-0480a64c146d"
      },
      "execution_count": 4,
      "outputs": [
        {
          "output_type": "stream",
          "name": "stderr",
          "text": [
            "/usr/local/lib/python3.11/dist-packages/pydantic/_internal/_config.py:295: PydanticDeprecatedSince20: Support for class-based `config` is deprecated, use ConfigDict instead. Deprecated in Pydantic V2.0 to be removed in V3.0. See Pydantic V2 Migration Guide at https://errors.pydantic.dev/2.10/migration/\n",
            "  warnings.warn(DEPRECATION_MESSAGE, DeprecationWarning)\n",
            "/usr/local/lib/python3.11/dist-packages/pydantic/_internal/_generate_schema.py:502: UserWarning: <built-in function callable> is not a Python type (it may be an instance of an object), Pydantic will allow any object with no validation since we cannot even enforce that the input is an instance of the given type. To get rid of this error wrap the type with `pydantic.SkipValidation`.\n",
            "  warn(\n",
            "/usr/local/lib/python3.11/dist-packages/crewai_tools/tools/scrapegraph_scrape_tool/scrapegraph_scrape_tool.py:34: PydanticDeprecatedSince20: Pydantic V1 style `@validator` validators are deprecated. You should migrate to Pydantic V2 style `@field_validator` validators, see the migration guide for more details. Deprecated in Pydantic V2.0 to be removed in V3.0. See Pydantic V2 Migration Guide at https://errors.pydantic.dev/2.10/migration/\n",
            "  @validator(\"website_url\")\n",
            "/usr/local/lib/python3.11/dist-packages/crewai_tools/tools/selenium_scraping_tool/selenium_scraping_tool.py:26: PydanticDeprecatedSince20: Pydantic V1 style `@validator` validators are deprecated. You should migrate to Pydantic V2 style `@field_validator` validators, see the migration guide for more details. Deprecated in Pydantic V2.0 to be removed in V3.0. See Pydantic V2 Migration Guide at https://errors.pydantic.dev/2.10/migration/\n",
            "  @validator(\"website_url\")\n",
            "/usr/local/lib/python3.11/dist-packages/crewai_tools/tools/vision_tool/vision_tool.py:15: PydanticDeprecatedSince20: Pydantic V1 style `@validator` validators are deprecated. You should migrate to Pydantic V2 style `@field_validator` validators, see the migration guide for more details. Deprecated in Pydantic V2.0 to be removed in V3.0. See Pydantic V2 Migration Guide at https://errors.pydantic.dev/2.10/migration/\n",
            "  @validator(\"image_path_url\")\n"
          ]
        }
      ]
    },
    {
      "cell_type": "markdown",
      "source": [
        "### Important Steps to create a CrewAI based Project\n",
        "1.   Create a simple `augmented_llm `based prototype - *done*\n",
        "2.   Add short and Long term `memory` to this prototype - *done*\n",
        "3.   Add a `custom_tool` to this prototype\n",
        "\n"
      ],
      "metadata": {
        "id": "RQ4Q4mSUG4wz"
      }
    },
    {
      "cell_type": "code",
      "source": [
        "embedder = {\n",
        "    \"provider\": \"google\",\n",
        "    \"config\": {\n",
        "    \"model\": 'models/text-embedding-004',\n",
        "    \"api_key\": GEMINI_API_KEY,\n",
        "    }\n",
        "}"
      ],
      "metadata": {
        "id": "3K30OW0bILZ0"
      },
      "execution_count": 27,
      "outputs": []
    },
    {
      "cell_type": "code",
      "source": [
        "from crewai import Agent, Crew, Task, Process, LLM # llm is form litellm of crewai\n",
        "from crewai.knowledge.source.string_knowledge_source import StringKnowledgeSource\n",
        "from textwrap import dedent\n",
        "from crewai import Agent, Crew, Task, Process, LLM # llm is form litellm of crewai\n",
        "from crewai.knowledge.source.string_knowledge_source import StringKnowledgeSource\n",
        "\n",
        "from crewai.memory import ShortTermMemory, LongTermMemory\n",
        "from crewai.memory.storage.ltm_sqlite_storage import LTMSQLiteStorage\n",
        "from crewai.memory.storage.rag_storage import RAGStorage\n",
        "from typing import List, Optional\n",
        "\n",
        "from textwrap import dedent\n",
        "\n",
        "# Create a knowledge source\n",
        "content = dedent(\"\"\"\n",
        "  M.Sufyan Ahmed is a 22 years Electronics Engr lives in Karachi Pakistan, that is working in the domain of semiconductor chip design industry /\n",
        "  He is an AI enthusiast and fitness freak as well. /\n",
        "  He also works as an AI/ML & GenAI Engr in part time /\n",
        "\"\"\")\n",
        "\n",
        "string_source = StringKnowledgeSource(\n",
        "    content=content,\n",
        ")\n",
        "\n",
        "# Create an LLM with a temperature of 0 to ensure deterministic outputs\n",
        "gemini_llm = LLM(\n",
        "    model=\"gemini/gemini-1.5-flash\",\n",
        "    api_key=os.environ.get(\"GEMINI_API_KEY\"), # Assuming GEMINI_API_KEY is set as an environment variable\n",
        "    temperature=0,\n",
        ")\n",
        "\n",
        "# Create an agent with the knowledge store\n",
        "agent = Agent(\n",
        "    role=\"About User\",\n",
        "    goal=\"You know everything about the user.\",\n",
        "    backstory=\"\"\"You are a master at understanding people and their preferences.\"\"\",\n",
        "    verbose=True,\n",
        "    allow_delegation=False,\n",
        "    llm=gemini_llm,\n",
        "    embedder=embedder,\n",
        ")\n",
        "\n",
        "task = Task(\n",
        "    description=\"Answer the following questions about the user: {question}\",\n",
        "    expected_output=\"An answer to the question.\",\n",
        "    agent=agent,\n",
        ")\n",
        "\n",
        "string_source = StringKnowledgeSource(\n",
        "    content=content,\n",
        ")\n",
        "\n",
        "# Create an LLM with a temperature of 0 to ensure deterministic outputs\n",
        "gemini_llm = LLM(\n",
        "    model=\"gemini/gemini-1.5-flash\",\n",
        "    api_key=GEMINI_API_KEY,\n",
        "    temperature=0,\n",
        ")\n",
        "\n",
        "# Create an agent with the knowledge store\n",
        "agent = Agent(\n",
        "    role=\"About User\",\n",
        "    goal=\"You know everything about the user.\",\n",
        "    backstory=\"\"\"You are a master at understanding people and their preferences.\"\"\",\n",
        "    verbose=True,\n",
        "    allow_delegation=False,\n",
        "    llm=gemini_llm,\n",
        "    embedder={\n",
        "        \"provider\": \"google\",\n",
        "        \"config\": {\n",
        "            \"model\": \"models/text-embedding-004\",\n",
        "            \"api_key\": GEMINI_API_KEY,\n",
        "        }\n",
        "    }\n",
        ")\n",
        "\n",
        "task = Task(\n",
        "    description=\"Answer the following questions about the user: {question}\",\n",
        "    expected_output=\"An answer to the question.\",\n",
        "    agent=agent,\n",
        ")"
      ],
      "metadata": {
        "id": "pJFsNkY0CnmA"
      },
      "execution_count": 28,
      "outputs": []
    },
    {
      "cell_type": "code",
      "source": [
        "crew = Crew(\n",
        "    agents=[agent],\n",
        "    tasks=[task],\n",
        "    memory=True,\n",
        "   # Long-term memory for persistent storage across sessions\n",
        "    long_term_memory = LongTermMemory(\n",
        "        storage=LTMSQLiteStorage(\n",
        "            db_path=\"./sufy_crew/long_term_memory_storage.db\"\n",
        "        )\n",
        "    ),\n",
        "    # Short-term memory for current context using RAG\n",
        "    short_term_memory = ShortTermMemory(\n",
        "        storage = RAGStorage(\n",
        "                embedder_config=embedder,\n",
        "                type=\"short_term\",\n",
        "                path=\"./sufy_crew/\"\n",
        "            )\n",
        "        ),\n",
        "    verbose=True, #it is used to print outputs to the console\n",
        "    process=Process.sequential,\n",
        "    knowledge_sources=[string_source],\n",
        "    embedder=embedder,\n",
        ")\n",
        "def my_knowldge():\n",
        "    result = crew.kickoff(inputs={\"question\": \"What city does Sufyan live?\"})\n",
        "    print(result)"
      ],
      "metadata": {
        "colab": {
          "base_uri": "https://localhost:8080/",
          "height": 34
        },
        "id": "LEWxP73jYz6q",
        "outputId": "0328b208-5605-46b3-8d55-e96c2c69d29c"
      },
      "execution_count": 29,
      "outputs": [
        {
          "output_type": "stream",
          "name": "stderr",
          "text": [
            "WARNING:opentelemetry.trace:Overriding of current TracerProvider is not allowed\n"
          ]
        }
      ]
    },
    {
      "cell_type": "code",
      "source": [
        "print(my_knowldge())"
      ],
      "metadata": {
        "colab": {
          "base_uri": "https://localhost:8080/",
          "height": 208
        },
        "id": "f_3vo-HuEmsa",
        "outputId": "2a68b19f-6232-4283-d01c-416f0ff300b4"
      },
      "execution_count": 30,
      "outputs": [
        {
          "output_type": "stream",
          "name": "stdout",
          "text": [
            "\u001b[1m\u001b[95m# Agent:\u001b[00m \u001b[1m\u001b[92mAbout User\u001b[00m\n",
            "\u001b[95m## Task:\u001b[00m \u001b[92mAnswer the following questions about the user: What city does Sufyan live?\u001b[00m\n",
            "\n",
            "\n",
            "\u001b[1m\u001b[95m# Agent:\u001b[00m \u001b[1m\u001b[92mAbout User\u001b[00m\n",
            "\u001b[95m## Final Answer:\u001b[00m \u001b[92m\n",
            "Karachi, Pakistan\u001b[00m\n",
            "\n",
            "\n",
            "Karachi, Pakistan\n",
            "None\n"
          ]
        }
      ]
    }
  ]
}