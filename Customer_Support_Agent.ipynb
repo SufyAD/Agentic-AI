{
  "cells": [
    {
      "cell_type": "markdown",
      "metadata": {
        "id": "view-in-github",
        "colab_type": "text"
      },
      "source": [
        "<a href=\"https://colab.research.google.com/github/SufyAD/Agentic-AI/blob/main/Customer_Support_Agent.ipynb\" target=\"_parent\"><img src=\"https://colab.research.google.com/assets/colab-badge.svg\" alt=\"Open In Colab\"/></a>"
      ]
    },
    {
      "cell_type": "code",
      "execution_count": 1,
      "metadata": {
        "id": "3jbBgM1zmW5r"
      },
      "outputs": [],
      "source": [
        "%%capture --no-stderr\n",
        "%pip install -qU langgraph langchain-community langchain_google_genai langchain_core langgraph-checkpoint-sqlite"
      ]
    },
    {
      "cell_type": "code",
      "execution_count": 2,
      "metadata": {
        "id": "ZVYbnm70mTaK"
      },
      "outputs": [],
      "source": [
        "import getpass\n",
        "import os\n",
        "\n",
        "\n",
        "def _set_env(var: str):\n",
        "    if not os.environ.get(var):\n",
        "        os.environ[var] = getpass.getpass(f\"{var}: \")\n",
        "\n",
        "\n",
        "# _set_env(\"GEMINI_API_KEY\")\n",
        "# _set_env(\"LANGCHAIN_API_KEY\")"
      ]
    },
    {
      "cell_type": "markdown",
      "metadata": {
        "id": "nIMyHIYTmbhz"
      },
      "source": [
        "### Populate database (Optional)\n",
        "Populating our database with some dummydata to perform different operations such as `get_order_status`, `cancel_order`, `update_order`"
      ]
    },
    {
      "cell_type": "code",
      "execution_count": 3,
      "metadata": {
        "id": "he9_qYbnWrIr",
        "colab": {
          "base_uri": "https://localhost:8080/"
        },
        "outputId": "b33c7d16-4072-4f5f-8963-b7f252836240"
      },
      "outputs": [
        {
          "output_type": "stream",
          "name": "stdout",
          "text": [
            "--2025-01-11 07:02:03--  https://github.com/langchain-ai/langchain-academy/raw/main/module-2/state_db/example.db\n",
            "Resolving github.com (github.com)... 140.82.112.4\n",
            "Connecting to github.com (github.com)|140.82.112.4|:443... connected.\n",
            "HTTP request sent, awaiting response... 302 Found\n",
            "Location: https://raw.githubusercontent.com/langchain-ai/langchain-academy/main/module-2/state_db/example.db [following]\n",
            "--2025-01-11 07:02:03--  https://raw.githubusercontent.com/langchain-ai/langchain-academy/main/module-2/state_db/example.db\n",
            "Resolving raw.githubusercontent.com (raw.githubusercontent.com)... 185.199.110.133, 185.199.109.133, 185.199.111.133, ...\n",
            "Connecting to raw.githubusercontent.com (raw.githubusercontent.com)|185.199.110.133|:443... connected.\n",
            "HTTP request sent, awaiting response... 200 OK\n",
            "Length: 110592 (108K) [application/octet-stream]\n",
            "Saving to: ‘state_db/example.db’\n",
            "\n",
            "\rexample.db            0%[                    ]       0  --.-KB/s               \rexample.db          100%[===================>] 108.00K  --.-KB/s    in 0.002s  \n",
            "\n",
            "2025-01-11 07:02:03 (46.6 MB/s) - ‘state_db/example.db’ saved [110592/110592]\n",
            "\n"
          ]
        }
      ],
      "source": [
        "!mkdir -p state_db && [ ! -f state_db/example.db ] && wget -P state_db https://github.com/langchain-ai/langchain-academy/raw/main/module-2/state_db/example.db"
      ]
    },
    {
      "cell_type": "code",
      "execution_count": 4,
      "metadata": {
        "id": "vy88LxL8n3PC"
      },
      "outputs": [],
      "source": [
        "# -------------------- Dummy Order ----------------------\n",
        "\n",
        "from langchain.tools import tool\n",
        "from typing_extensions import TypedDict\n",
        "order_json: TypedDict = {\n",
        "  \"orders\": [\n",
        "      {\n",
        "          \"order_id\": \"12345\",\n",
        "          \"status\": \"Processing\",\n",
        "          \"expected_delivery\": \"2024-12-23\",\n",
        "          \"items\": [\n",
        "              {\"name\": \"Wireless Headphones\", \"category\": \"Audio\", \"price\": 15000, \"quantity\": 1},\n",
        "              {\"name\": \"Smart Watch\", \"category\": \"Wearables\", \"price\": 12000, \"quantity\": 1}\n",
        "          ]\n",
        "      },\n",
        "      {\n",
        "          \"order_id\": \"67890\",\n",
        "          \"status\": \"Shipped\",\n",
        "          \"expected_delivery\": \"2024-12-25\",\n",
        "          \"items\": [\n",
        "              {\"name\": \"Gaming Mouse\", \"category\": \"Accessories\", \"price\": 7000, \"quantity\": 1},\n",
        "              {\"name\": \"Mechanical Keyboard\", \"category\": \"Accessories\", \"price\": 10000, \"quantity\": 1}\n",
        "          ]\n",
        "      },\n",
        "      {\n",
        "          \"order_id\": \"11223\",\n",
        "          \"status\": \"Delivered\",\n",
        "          \"expected_delivery\": \"2024-12-20\",\n",
        "          \"items\": [\n",
        "              {\"name\": \"Portable Speaker\", \"category\": \"Audio\", \"price\": 8000, \"quantity\": 1},\n",
        "              {\"name\": \"Smartphone Stand\", \"category\": \"Accessories\", \"price\": 2000, \"quantity\": 2},\n",
        "              {\"name\": \"USB-C Hub\", \"category\": \"Connectivity\", \"price\": 3000, \"quantity\": 1}\n",
        "          ]\n",
        "      }\n",
        "  ]\n",
        "}"
      ]
    },
    {
      "cell_type": "code",
      "execution_count": 5,
      "metadata": {
        "id": "O-EMG0d-sfHF"
      },
      "outputs": [],
      "source": [
        "#----------------------- Products in DB -----------------------\n",
        "products = [\n",
        "    {\"name\": \"Wireless Headphones\", \"category\": \"Audio\", \"price\": 15000, \"stock\": 10},\n",
        "    {\"name\": \"Smart Watch\", \"category\": \"Wearables\", \"price\": 12000, \"stock\": 100},\n",
        "    {\"name\": \"Gaming Mouse\", \"category\": \"Accessories\", \"price\": 5000, \"stock\": 50},\n",
        "    {\"name\": \"Mechanical Keyboard\", \"category\": \"Accessories\", \"price\": 8000, \"stock\": 30},\n",
        "    {\"name\": \"Portable Power Bank\", \"category\": \"Energy\", \"price\": 4000, \"stock\": 200},\n",
        "    {\"name\": \"Bluetooth Speaker\", \"category\": \"Audio\", \"price\": 6000, \"stock\": 40},\n",
        "    {\"name\": \"Smart Glasses\", \"category\": \"Wearables\", \"price\": 18000, \"stock\": 15},\n",
        "    {\"name\": \"Fitness Tracker\", \"category\": \"Wearables\", \"price\": 7000, \"stock\": 80},\n",
        "    {\"name\": \"Drone with Camera\", \"category\": \"Drones\", \"price\": 25000, \"stock\": 10},\n",
        "    {\"name\": \"4K Action Camera\", \"category\": \"Photography\", \"price\": 15000, \"stock\": 25},\n",
        "    {\"name\": \"VR Headset\", \"category\": \"Gaming\", \"price\": 22000, \"stock\": 20},\n",
        "]"
      ]
    },
    {
      "cell_type": "code",
      "execution_count": 6,
      "metadata": {
        "id": "fCg76vjAWsfP"
      },
      "outputs": [],
      "source": [
        "import sqlite3\n",
        "db_path = \"state_db/example.db\"\n",
        "conn = sqlite3.connect(db_path, check_same_thread=False) #conn is basically enables us to connect with our SQLite3 database otherwise we could not setup\n",
        "cursor = conn.cursor()"
      ]
    },
    {
      "cell_type": "code",
      "execution_count": 7,
      "metadata": {
        "id": "kdTWDFaCs5PE"
      },
      "outputs": [],
      "source": [
        "cursor.execute(\n",
        "    \"\"\"\n",
        "    CREATE TABLE IF NOT EXISTS products (\n",
        "        name TEXT PRIMARY KEY,\n",
        "        category TEXT,\n",
        "        price INTEGER,\n",
        "        stock INTEGER\n",
        "    )\n",
        "    \"\"\"\n",
        ")\n",
        "for product in products:\n",
        "    cursor.execute(\"\"\"\n",
        "    INSERT OR REPLACE INTO products (name, category, price, stock)\n",
        "    VALUES (?, ?, ?, ?)\n",
        "    \"\"\",(product[\"name\"].lower(), product[\"category\"], product[\"price\"], product[\"stock\"]))\n",
        "\n",
        "    conn.commit()"
      ]
    },
    {
      "cell_type": "code",
      "execution_count": 8,
      "metadata": {
        "colab": {
          "base_uri": "https://localhost:8080/"
        },
        "id": "9OkHzBfLt-wP",
        "outputId": "490b63b6-1129-4329-83b2-1b5eefaf916d"
      },
      "outputs": [
        {
          "output_type": "stream",
          "name": "stdout",
          "text": [
            "('wireless headphones', 'Audio', 15000, 10)\n",
            "('smart watch', 'Wearables', 12000, 100)\n",
            "('gaming mouse', 'Accessories', 5000, 50)\n",
            "('mechanical keyboard', 'Accessories', 8000, 30)\n",
            "('portable power bank', 'Energy', 4000, 200)\n",
            "('bluetooth speaker', 'Audio', 6000, 40)\n",
            "('smart glasses', 'Wearables', 18000, 15)\n",
            "('fitness tracker', 'Wearables', 7000, 80)\n",
            "('drone with camera', 'Drones', 25000, 10)\n",
            "('4k action camera', 'Photography', 15000, 25)\n",
            "('vr headset', 'Gaming', 22000, 20)\n"
          ]
        }
      ],
      "source": [
        "cursor.execute(\"SELECT * FROM products\")\n",
        "rows = cursor.fetchall()\n",
        "for row in rows:\n",
        "    print(row)"
      ]
    },
    {
      "cell_type": "code",
      "execution_count": 9,
      "metadata": {
        "id": "rd9HWukjW_P-"
      },
      "outputs": [],
      "source": [
        "from langgraph.checkpoint.sqlite import SqliteSaver\n",
        "memory: SqliteSaver = SqliteSaver(conn)"
      ]
    },
    {
      "cell_type": "code",
      "execution_count": 10,
      "metadata": {
        "id": "zy4oPYcsdyzb"
      },
      "outputs": [],
      "source": [
        "# #Cleaing DB\n",
        "cursor = conn.cursor()\n",
        "# cursor.execute(\"DELETE FROM order_items\")\n",
        "# cursor.execute(\"DELETE FROM orders\")\n",
        "\n",
        "# # Optionally, you can reset the autoincrement if needed:\n",
        "# # cursor.execute(\"DELETE FROM sqlite_sequence WHERE name='orders'\")\n",
        "# # cursor.execute(\"DELETE FROM sqlite_sequence WHERE name='order_items'\")\n",
        "\n",
        "# # Commit the changes and close the connection\n",
        "# conn.commit()\n",
        "# cursor.close()\n",
        "# conn.close()\n",
        "\n",
        "# print(\"Database cleaned and ready for new data.\")"
      ]
    },
    {
      "cell_type": "code",
      "execution_count": 11,
      "metadata": {
        "id": "tToaG8X6YnpH"
      },
      "outputs": [],
      "source": [
        "#creating tables if doesn't exist\n",
        "cursor.execute(\"\"\"\n",
        "    CREATE TABLE IF NOT EXISTS orders (\n",
        "        order_id TEXT PRIMARY KEY,\n",
        "        status TEXT,\n",
        "        expected_delivery TEXT\n",
        "    )\n",
        "    \"\"\")\n",
        "\n",
        "cursor.execute(\"\"\"\n",
        "    CREATE TABLE IF NOT EXISTS order_items (\n",
        "        order_id TEXT,\n",
        "        name TEXT,\n",
        "        category TEXT,\n",
        "        price INTEGER,\n",
        "        quantity INTEGER,\n",
        "        FOREIGN KEY (order_id) REFERENCES orders(order_id)\n",
        "    )\n",
        "\"\"\")\n",
        "\n",
        "# Populating data in the database\n",
        "for order in order_json[\"orders\"]:\n",
        "    cursor.execute(\"\"\"\n",
        "    INSERT OR REPLACE INTO orders (order_id, status, expected_delivery)\n",
        "    VALUES (?, ?, ?)\n",
        "    \"\"\", (order[\"order_id\"], order[\"status\"], order[\"expected_delivery\"]))\n",
        "\n",
        "    # Now iterate over the items for each order and insert them into the order_items table\n",
        "    for item in order[\"items\"]:\n",
        "        cursor.execute(\"\"\"\n",
        "        INSERT OR REPLACE INTO order_items (order_id, name, category, price, quantity)\n",
        "        VALUES (?, ?, ?, ?, ?)\n",
        "        \"\"\", (order[\"order_id\"], item[\"name\"].lower(), item[\"category\"], item[\"price\"], item[\"quantity\"]))\n",
        "\n",
        "conn.commit()"
      ]
    },
    {
      "cell_type": "code",
      "execution_count": 12,
      "metadata": {
        "id": "ijzuVC2BbvWC"
      },
      "outputs": [],
      "source": [
        "cursor.execute(\"\"\"\n",
        "  SELECT * FROM orders\n",
        "\"\"\")\n",
        "orders = cursor.fetchall()\n",
        "\n",
        "cursor.execute(\"SELECT * FROM order_items\")\n",
        "order_items = cursor.fetchall()"
      ]
    },
    {
      "cell_type": "code",
      "execution_count": 13,
      "metadata": {
        "colab": {
          "base_uri": "https://localhost:8080/"
        },
        "id": "3nNcY3lLU9pd",
        "outputId": "986de3a8-0a8b-48a5-921a-55175cb6bcff"
      },
      "outputs": [
        {
          "output_type": "stream",
          "name": "stdout",
          "text": [
            "Orders:\n",
            "('12345', 'Processing', '2024-12-23')\n",
            "('67890', 'Shipped', '2024-12-25')\n",
            "('11223', 'Delivered', '2024-12-20')\n",
            "\n",
            "Order Items:\n",
            "('12345', 'wireless headphones', 'Audio', 15000, 1)\n",
            "('12345', 'smart watch', 'Wearables', 12000, 1)\n",
            "('67890', 'gaming mouse', 'Accessories', 7000, 1)\n",
            "('67890', 'mechanical keyboard', 'Accessories', 10000, 1)\n",
            "('11223', 'portable speaker', 'Audio', 8000, 1)\n",
            "('11223', 'smartphone stand', 'Accessories', 2000, 2)\n",
            "('11223', 'usb-c hub', 'Connectivity', 3000, 1)\n"
          ]
        }
      ],
      "source": [
        "# Print the data\n",
        "print(\"Orders:\")\n",
        "for order in orders:\n",
        "    print(order)\n",
        "\n",
        "print(\"\\nOrder Items:\")\n",
        "for item in order_items:\n",
        "    print(item)"
      ]
    },
    {
      "cell_type": "code",
      "execution_count": 14,
      "metadata": {
        "id": "e0uOUdT_a8Ac"
      },
      "outputs": [],
      "source": [
        "conn.commit()\n",
        "cursor.close()"
      ]
    },
    {
      "cell_type": "markdown",
      "metadata": {
        "id": "FfnD_V2smuyy"
      },
      "source": [
        "**Tools**\n",
        "Next, define our assistant's `tools`"
      ]
    },
    {
      "cell_type": "code",
      "execution_count": 15,
      "metadata": {
        "id": "GsTMW-vynYRo"
      },
      "outputs": [],
      "source": [
        "from langchain_google_genai import ChatGoogleGenerativeAI\n",
        "from langchain_core.tools import tool\n",
        "\n",
        "from IPython.display import Image, display\n",
        "\n",
        "from langgraph.checkpoint.memory import MemorySaver\n",
        "from langgraph.graph import MessagesState\n",
        "from langgraph.graph import START, StateGraph\n",
        "from langgraph.prebuilt import tools_condition, ToolNode\n",
        "from langgraph.graph.state import CompiledStateGraph\n",
        "from langchain_core.runnables import RunnableConfig\n",
        "from langchain_core.messages import HumanMessage, SystemMessage\n",
        "from langgraph.types import Command, interrupt\n",
        "\n",
        "from typing_extensions import TypedDict"
      ]
    },
    {
      "cell_type": "code",
      "execution_count": 16,
      "metadata": {
        "id": "7GJpDgR12kdc"
      },
      "outputs": [],
      "source": [
        "from google.colab import userdata\n",
        "llm = ChatGoogleGenerativeAI(model=\"gemini-1.5-flash\", api_key=userdata.get(\"GEMINI_API_KEY\"))\n",
        "# llm_with_tools = llm.bind_tools(tools) # to be added"
      ]
    },
    {
      "cell_type": "code",
      "execution_count": 17,
      "metadata": {
        "colab": {
          "base_uri": "https://localhost:8080/"
        },
        "id": "MCeU3-asQiVn",
        "outputId": "c974eee2-6bd5-4c68-b470-36d03f731057"
      },
      "outputs": [
        {
          "output_type": "execute_result",
          "data": {
            "text/plain": [
              "AIMessage(content='Hello there! How can I help you today?', additional_kwargs={}, response_metadata={'prompt_feedback': {'block_reason': 0, 'safety_ratings': []}, 'finish_reason': 'STOP', 'safety_ratings': []}, id='run-377bb068-37b4-4066-857a-e9d007acde45-0', usage_metadata={'input_tokens': 2, 'output_tokens': 11, 'total_tokens': 13, 'input_token_details': {'cache_read': 0}})"
            ]
          },
          "metadata": {},
          "execution_count": 17
        }
      ],
      "source": [
        "llm.invoke(\"Hello\")"
      ]
    },
    {
      "cell_type": "code",
      "execution_count": 18,
      "metadata": {
        "id": "LIyrYbwbwNih"
      },
      "outputs": [],
      "source": [
        "from datetime import datetime, timedelta\n",
        "from pydantic import BaseModel\n",
        "from typing import Optional\n",
        "\n",
        "class OrderState(TypedDict): #to handle order udpates\n",
        "    order_id: str\n",
        "    status: str\n",
        "    expected_delivery: str\n",
        "\n",
        "class State(MessagesState):\n",
        "    orders_json: dict[str, list[OrderState]]"
      ]
    },
    {
      "cell_type": "code",
      "execution_count": 19,
      "metadata": {
        "id": "O1d8kXTD2ELA"
      },
      "outputs": [],
      "source": [
        "from time import time\n",
        "from random import randint\n",
        "\n",
        "def get_user_input() -> dict:\n",
        "    while True:\n",
        "        try:\n",
        "            product_name = input(\"Enter the product name: \").lower()  # Ensuring lowercase for matching\n",
        "            quantity = int(input(\"Enter the quantity: \").strip())\n",
        "\n",
        "            if quantity <= 0:\n",
        "                raise ValueError(\"Quantity must be a positive integer.\")\n",
        "\n",
        "            return {\"product_name\": product_name, \"quantity\": quantity}\n",
        "        except ValueError as e:\n",
        "            print(f\"Error: {e}\")\n",
        "\n",
        "\n",
        "# Function to match product from the database\n",
        "def match_product(db_path: str, product_name: str, quantity: int) -> dict:\n",
        "    query = \"\"\"\n",
        "        SELECT name, category, price, stock\n",
        "        FROM products\n",
        "        WHERE name = ?\n",
        "    \"\"\"\n",
        "    with sqlite3.connect(db_path) as conn:\n",
        "        cursor = conn.cursor()\n",
        "        cursor.execute(query, (product_name,))\n",
        "        product = cursor.fetchone()\n",
        "\n",
        "        if not product:\n",
        "            raise ValueError(f\"Product '{product_name}' not found in the database.\")\n",
        "\n",
        "        name, category, price, stock = product\n",
        "\n",
        "        if quantity > stock:\n",
        "            raise ValueError(f\"Insufficient stock for '{name}'. Available: {stock}\")\n",
        "\n",
        "        return {\n",
        "            \"name\": name,\n",
        "            \"category\": category,\n",
        "            \"price\": price,\n",
        "            \"quantity\": quantity\n",
        "        }"
      ]
    },
    {
      "cell_type": "code",
      "execution_count": 20,
      "metadata": {
        "id": "j12G-wJsXTih"
      },
      "outputs": [],
      "source": [
        "# Function to create an order\n",
        "def create_order(db_path: str,order_id: str, matched_product: dict) -> dict:\n",
        "\n",
        "    order_id = randint(100, 999)\n",
        "    expected_delivery = \"2025-01-05\"  # Example date logic\n",
        "\n",
        "    with sqlite3.connect(db_path) as conn:\n",
        "        cursor = conn.cursor()\n",
        "\n",
        "        # Insert into orders table\n",
        "        query = \"\"\"\n",
        "        INSERT INTO orders (order_id, status, expected_delivery)\n",
        "        VALUES (?, ?, ?)\n",
        "        \"\"\"\n",
        "        cursor.execute(query, (order_id, \"Processing\", expected_delivery)) #for every new order we'll pass status as PROCESSING\n",
        "\n",
        "        # Insert into order_items table\n",
        "        query_item = \"\"\"\n",
        "        INSERT INTO order_items (order_id, name, category, price, quantity)\n",
        "        VALUES (?, ?, ?, ?, ?)\n",
        "        \"\"\"\n",
        "        cursor.execute(query_item, (\n",
        "            order_id,\n",
        "            matched_product[\"name\"],\n",
        "            matched_product[\"category\"],\n",
        "            matched_product[\"price\"],\n",
        "            matched_product[\"quantity\"]\n",
        "        ))\n",
        "\n",
        "        # Update stock in products table\n",
        "        query_stock_update = \"\"\"\n",
        "            UPDATE products SET stock = stock - ? WHERE name = ?\n",
        "        \"\"\"\n",
        "        cursor.execute(query_stock_update, (matched_product[\"quantity\"], matched_product[\"name\"]))\n",
        "        conn.commit()\n",
        "\n",
        "    return {\n",
        "        \"order_id\": order_id,\n",
        "        \"status\": \"Processing\",\n",
        "        \"expected_delivery\": expected_delivery,\n",
        "        \"items\": [matched_product],\n",
        "    }"
      ]
    },
    {
      "cell_type": "code",
      "execution_count": 21,
      "metadata": {
        "id": "vdbynXxNn9bM"
      },
      "outputs": [],
      "source": [
        "@tool\n",
        "def process_order(db_path: str) -> dict:\n",
        "    \"\"\"Handles product order creation, checking stock, and updating the database.\"\"\"\n",
        "    try:\n",
        "        # Get user input for product and quantity\n",
        "        user_input = get_user_input()\n",
        "\n",
        "        # Match product from the database\n",
        "        matched_product = match_product(db_path, user_input[\"product_name\"], user_input[\"quantity\"])\n",
        "\n",
        "        # Create the order in the database\n",
        "        order_details = create_order(db_path, matched_product)\n",
        "\n",
        "        return order_details\n",
        "    except ValueError as e:\n",
        "        return {\"error\": str(e)}"
      ]
    },
    {
      "cell_type": "code",
      "execution_count": 22,
      "metadata": {
        "id": "KekeLiibmh9g"
      },
      "outputs": [],
      "source": [
        "@tool\n",
        "def get_order_status(config: RunnableConfig) -> list[dict]:\n",
        "    \"\"\"\n",
        "    Retrieves the status of an order based on its unique order ID.\n",
        "\n",
        "    Args:\n",
        "        config (RunnableConfig): Contains configuration for the order ID.\n",
        "\n",
        "    Returns:\n",
        "        List[Dict]: A list of dictionaries with order details, including:\n",
        "            - `order_id` (str): The unique ID of the order.\n",
        "            - `status` (str): The current status of the order (e.g., \"Processing\", \"Shipped\").\n",
        "            - `expected_delivery` (str): The expected delivery date of the order (optional).\n",
        "            - `items` (list of dict): The items related to the order.\n",
        "    \"\"\"\n",
        "    # Get order_id from the config\n",
        "    configuration = config.get(\"configurable\", {})\n",
        "    order_id = configuration.get(\"order_id\", None)\n",
        "\n",
        "    if not order_id:\n",
        "        raise ValueError(\"order_id is required\")\n",
        "\n",
        "    # Connect to the SQLite database\n",
        "    conn = sqlite3.connect(db_path)\n",
        "    cursor = conn.cursor()\n",
        "\n",
        "    # Update SQL query to correctly join orders and order_items tables\n",
        "    query = \"\"\"\n",
        "    SELECT\n",
        "        orders.order_id,\n",
        "        orders.status,\n",
        "        orders.expected_delivery,\n",
        "        order_items.name,\n",
        "        order_items.category,\n",
        "        order_items.price,\n",
        "        order_items.quantity\n",
        "    FROM\n",
        "        orders\n",
        "    JOIN\n",
        "        order_items ON orders.order_id = order_items.order_id\n",
        "    WHERE\n",
        "        orders.order_id = ?\n",
        "    \"\"\"\n",
        "    cursor.execute(query, (order_id,))\n",
        "    rows = cursor.fetchall()\n",
        "\n",
        "    # Create a list of dictionaries for the rows retrieved from the database\n",
        "    column_names = [column[0] for column in cursor.description]\n",
        "    results = [dict(zip(column_names, row)) for row in rows]\n",
        "\n",
        "    cursor.close()\n",
        "    conn.close()\n",
        "\n",
        "    if not results:\n",
        "        raise ValueError(f\"Order with ID {order_id} not found\")\n",
        "\n",
        "    return results"
      ]
    },
    {
      "cell_type": "markdown",
      "metadata": {
        "id": "BuGSwoyxsaRk"
      },
      "source": [
        "### Cancelling an order\n",
        "Right now it is kept simple that a common json of orders is passed through the functions and keep updating the content of this json, later we will replace this json with our database"
      ]
    },
    {
      "cell_type": "code",
      "execution_count": 23,
      "metadata": {
        "id": "cr-ZGWVdsXFL"
      },
      "outputs": [],
      "source": [
        "import sqlite3\n",
        "from langchain_core.runnables import RunnableConfig\n",
        "\n",
        "@tool\n",
        "def cancel_order(config: RunnableConfig) -> str:\n",
        "    \"\"\"\n",
        "    Cancels the order based on its unique order ID.\n",
        "\n",
        "    Args:\n",
        "        config (RunnableConfig): The config containing the order ID.\n",
        "\n",
        "    Returns:\n",
        "        str: A message indicating whether the order was successfully canceled or not.\n",
        "    \"\"\"\n",
        "    configuration = config.get(\"configurable\", {})\n",
        "    order_id = configuration.get(\"order_id\", None)\n",
        "\n",
        "    if not order_id:\n",
        "        raise ValueError(\"order_id is required\")\n",
        "\n",
        "    # Connect to SQLite database\n",
        "    conn = sqlite3.connect(db_path)\n",
        "    cursor = conn.cursor()\n",
        "\n",
        "    # Check if the order exists and get its status\n",
        "    cursor.execute(\"\"\"\n",
        "        SELECT order_id, status FROM orders WHERE order_id = ?\n",
        "    \"\"\", (order_id,))\n",
        "    order = cursor.fetchone()\n",
        "\n",
        "    if not order:\n",
        "        cursor.close()\n",
        "        conn.close()\n",
        "        return f\"Order with ID {order_id} not found.\"\n",
        "\n",
        "    # If the order status is not \"Delivered\", we cancel it\n",
        "    if order[1] != \"Delivered\":\n",
        "        cursor.execute(\"\"\"\n",
        "            DELETE FROM orders WHERE order_id = ?\n",
        "        \"\"\", (order_id,))\n",
        "        cursor.execute(\"\"\"\n",
        "            DELETE FROM order_items WHERE order_id = ?\n",
        "        \"\"\", (order_id,))\n",
        "        conn.commit()\n",
        "        cursor.close()\n",
        "        conn.close()\n",
        "        return f\"Order {order_id} has been successfully canceled.\"\n",
        "\n",
        "    cursor.close()\n",
        "    conn.close()\n",
        "    return f\"Order {order_id} cannot be canceled as it has already been {order[1]}.\"\n"
      ]
    },
    {
      "cell_type": "markdown",
      "metadata": {
        "id": "t4NZ3Fvyivme"
      },
      "source": [
        "### Update an Order\n",
        "Modifying the common json which will be replaced with our DB later\n"
      ]
    },
    {
      "cell_type": "code",
      "execution_count": 24,
      "metadata": {
        "id": "s-YDZyfeKwEy"
      },
      "outputs": [],
      "source": [
        "def update_order(db_path: str, order_id: str, matched_product: dict, config: RunnableConfig) -> dict:\n",
        "    \"\"\"\n",
        "    Update the order details in the database.\n",
        "    \"\"\"\n",
        "    # Extract configuration\n",
        "    configuration = config.get(\"configurable\", {})\n",
        "    order_id = configuration.get(\"order_id\")\n",
        "    expected_delivery = configuration.get(\"expected_delivery\", \"7 days\")\n",
        "\n",
        "    # Validate `order_id`\n",
        "    if not order_id:\n",
        "        raise ValueError(\"Missing `order_id` in the configuration.\")\n",
        "\n",
        "    # Database operations\n",
        "    with sqlite3.connect(db_path) as conn:\n",
        "        cursor = conn.cursor()\n",
        "\n",
        "        # Insert into orders table\n",
        "        query = \"\"\"\n",
        "        INSERT INTO orders (order_id, status, expected_delivery)\n",
        "        VALUES (?, ?, ?)\n",
        "        \"\"\"\n",
        "        cursor.execute(query, (order_id, \"Processing\", expected_delivery))\n",
        "\n",
        "        # Insert into order_items table\n",
        "        query_item = \"\"\"\n",
        "        INSERT INTO order_items (order_id, name, category, price, quantity)\n",
        "        VALUES (?, ?, ?, ?, ?)\n",
        "        \"\"\"\n",
        "        cursor.execute(query_item, (\n",
        "            order_id,\n",
        "            matched_product[\"name\"],\n",
        "            matched_product[\"category\"],\n",
        "            matched_product[\"price\"],\n",
        "            matched_product[\"quantity\"]\n",
        "        ))\n",
        "\n",
        "        # Update stock in products table\n",
        "        query_stock_update = \"\"\"\n",
        "            UPDATE products SET stock = stock - ? WHERE name = ?\n",
        "        \"\"\"\n",
        "        cursor.execute(query_stock_update, (matched_product[\"quantity\"], matched_product[\"name\"]))\n",
        "        conn.commit()\n",
        "\n",
        "    return {\n",
        "        \"order_id\": order_id,\n",
        "        \"status\": \"Processing\",\n",
        "        \"expected_delivery\": expected_delivery,\n",
        "        \"items\": [matched_product],\n",
        "    }\n"
      ]
    },
    {
      "cell_type": "code",
      "execution_count": 25,
      "metadata": {
        "id": "NBvRV8HRes4k"
      },
      "outputs": [],
      "source": [
        "@tool\n",
        "def process_order(db_path: str) -> dict:\n",
        "    \"\"\"Handles product order creation, checking stock, and updating the database.\"\"\"\n",
        "    try:\n",
        "        # Get user input for product and quantity\n",
        "        user_input = get_user_input()\n",
        "\n",
        "        # Match product from the database\n",
        "        matched_product = match_product(db_path, user_input[\"product_name\"], user_input[\"quantity\"])\n",
        "\n",
        "        # Create the order in the database\n",
        "        order_details = update_order(db_path, matched_product)\n",
        "\n",
        "        return order_details\n",
        "    except ValueError as e:\n",
        "        return {\"error\": str(e)}"
      ]
    },
    {
      "cell_type": "code",
      "source": [
        "from typing import Literal\n",
        "\n",
        "def payment(input: dict, config: RunnableConfig) -> Literal[\"__end__\", \"assistant\"]:\n",
        "  \"\"\"\n",
        "  Handles the payment process for an order.\n",
        "  \"\"\"\n",
        "  print(\"--- Payement Node executed ---\")\n",
        "  user_approval = interrupt(\"Are you sure you want to pay online?\")\n",
        "  if user_approval.lower() == \"yes\":\n",
        "    return \"assistant\"\n",
        "  return \"__end__\""
      ],
      "metadata": {
        "id": "ehPnIJ12vCXW"
      },
      "execution_count": 26,
      "outputs": []
    },
    {
      "cell_type": "code",
      "execution_count": 27,
      "metadata": {
        "id": "ywr13gAD3Pzg"
      },
      "outputs": [],
      "source": [
        "from langchain_core import tools\n",
        "tools = [get_order_status, cancel_order, process_order]\n",
        "llm_with_tools = llm.bind_tools(tools)"
      ]
    },
    {
      "cell_type": "code",
      "execution_count": 28,
      "metadata": {
        "colab": {
          "base_uri": "https://localhost:8080/"
        },
        "id": "lCJ5bK21cUTG",
        "outputId": "507fe0f5-2bbc-4a0f-e812-0324b088e9a1"
      },
      "outputs": [
        {
          "output_type": "execute_result",
          "data": {
            "text/plain": [
              "AIMessage(content='Hi there! How can I help you today?', additional_kwargs={}, response_metadata={'prompt_feedback': {'block_reason': 0, 'safety_ratings': []}, 'finish_reason': 'STOP', 'safety_ratings': []}, id='run-bd95437b-46f7-49d3-9c47-e5f5df4ed309-0', usage_metadata={'input_tokens': 275, 'output_tokens': 11, 'total_tokens': 286, 'input_token_details': {'cache_read': 0}})"
            ]
          },
          "metadata": {},
          "execution_count": 28
        }
      ],
      "source": [
        "llm_with_tools.invoke(\"Hi\")"
      ]
    },
    {
      "cell_type": "code",
      "execution_count": 29,
      "metadata": {
        "id": "-RKHKbE2qtky"
      },
      "outputs": [],
      "source": [
        "from google.colab import userdata\n",
        "\n",
        "def assistant(state: MessagesState):\n",
        "  \"\"\"\n",
        "  Handles the processing of conversational messages using a language model with tools.\n",
        "  \"\"\"\n",
        "  sys_msg = SystemMessage(content=\"\"\"You are a helpful Order Management Assistant,\n",
        "  you have to be always humble and positive with the user's query even if the customer loses his tone;\n",
        "  Keep the situation under control\n",
        "  Here are some important points to consider:\n",
        "  - Be careful while cancelling an order and confirm it once before cancelling\n",
        "  - Be careful while returning payment to any customer and confirm once\n",
        "  \"\"\")\n",
        "\n",
        "  return {\"messages\": [llm_with_tools.invoke([sys_msg] + state[\"messages\"])]}"
      ]
    },
    {
      "cell_type": "code",
      "execution_count": 38,
      "metadata": {
        "id": "VSQPks3yLvAL"
      },
      "outputs": [],
      "source": [
        "agent: StateGraph = StateGraph(MessagesState)\n",
        "\n",
        "agent.add_node(\"assistant\", assistant)\n",
        "agent.add_node(\"tools\", ToolNode(tools))\n",
        "\n",
        "agent.add_edge(START, \"assistant\")\n",
        "agent.add_conditional_edges(\n",
        "    \"assistant\",\n",
        "    tools_condition,\n",
        "    \"tools\",\n",
        ")\n",
        "\n",
        "agent.add_edge(\"tools\", \"assistant\")\n",
        "agent.set_entry_point(\"assistant\")\n",
        "\n",
        "memory: MemorySaver = MemorySaver()\n",
        "graph: CompiledStateGraph = agent.compile(checkpointer=memory)"
      ]
    },
    {
      "cell_type": "markdown",
      "metadata": {
        "id": "5-V-I3w4MvUc"
      },
      "source": [
        "### Adding Checkpointer right now - later we will replace this with out DB\n"
      ]
    },
    {
      "cell_type": "code",
      "execution_count": 39,
      "metadata": {
        "id": "abxUuO2pNATH",
        "colab": {
          "base_uri": "https://localhost:8080/",
          "height": 266
        },
        "outputId": "6b4ae304-87d8-4a16-aaa9-6616205cf31f"
      },
      "outputs": [
        {
          "output_type": "display_data",
          "data": {
            "image/png": "[encoded data removed]",
            "text/plain": [
              "<IPython.core.display.Image object>"
            ]
          },
          "metadata": {}
        }
      ],
      "source": [
        "display(Image(graph.get_graph(xray=True).draw_mermaid_png()))"
      ]
    },
    {
      "cell_type": "code",
      "execution_count": 42,
      "metadata": {
        "id": "roD_iclzNFoq",
        "colab": {
          "base_uri": "https://localhost:8080/"
        },
        "outputId": "1c3eedf8-c823-47d8-95f0-82597627c2a6"
      },
      "outputs": [
        {
          "output_type": "stream",
          "name": "stdout",
          "text": [
            "================================\u001b[1m Human Message \u001b[0m=================================\n",
            "\n",
            "Yes please cancel it\n",
            "==================================\u001b[1m Ai Message \u001b[0m==================================\n",
            "\n",
            "Okay, I understand.  I'm now initiating the cancellation process for order 12345. Please wait a moment.\n",
            "Tool Calls:\n",
            "  cancel_order (3c14925b-0f22-4aec-866d-add8477e220e)\n",
            " Call ID: 3c14925b-0f22-4aec-866d-add8477e220e\n",
            "  Args:\n",
            "=================================\u001b[1m Tool Message \u001b[0m=================================\n",
            "Name: cancel_order\n",
            "\n",
            "Order 12345 has been successfully canceled.\n",
            "==================================\u001b[1m Ai Message \u001b[0m==================================\n",
            "\n",
            "Order 12345 has been successfully canceled.  You'll receive a confirmation email shortly. Is there anything else I can help you with today?\n"
          ]
        }
      ],
      "source": [
        "# Input\n",
        "initial_input = {\"messages\": \"Yes please cancel it\"}\n",
        "\n",
        "# Thread\n",
        "thread = {\"configurable\": {\n",
        "    \"thread_id\": \"3\",\n",
        "    \"order_id\": \"12345\"\n",
        "    }}\n",
        "\n",
        "# Run the graph until the first interruption\n",
        "for event in graph.stream(initial_input, thread, stream_mode=\"values\"):\n",
        "    event['messages'][-1].pretty_print()"
      ]
    }
  ],
  "metadata": {
    "colab": {
      "provenance": [],
      "authorship_tag": "ABX9TyOgqawp0aeHzKyLIHOSuk7U",
      "include_colab_link": true
    },
    "kernelspec": {
      "display_name": "Python 3",
      "name": "python3"
    },
    "language_info": {
      "name": "python"
    }
  },
  "nbformat": 4,
  "nbformat_minor": 0
}